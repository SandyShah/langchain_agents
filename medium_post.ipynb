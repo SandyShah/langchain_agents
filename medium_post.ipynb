{
 "cells": [
  {
   "cell_type": "code",
   "execution_count": 1,
   "id": "83f773b6",
   "metadata": {},
   "outputs": [],
   "source": [
    "import os\n",
    "os.environ['CURL_CA_BUNDLE'] = \"\""
   ]
  },
  {
   "cell_type": "code",
   "execution_count": 2,
   "id": "be27b302",
   "metadata": {},
   "outputs": [
    {
     "data": {
      "text/plain": [
       "'2.27.0'"
      ]
     },
     "execution_count": 2,
     "metadata": {},
     "output_type": "execute_result"
    }
   ],
   "source": [
    "import requests\n",
    "requests.__version__"
   ]
  },
  {
   "cell_type": "code",
   "execution_count": 3,
   "id": "49130a1f",
   "metadata": {},
   "outputs": [],
   "source": [
    "# !pip install torch torchvision torchaudio --index-url https://download.pytorch.org/whl/cu121 --user"
   ]
  },
  {
   "cell_type": "code",
   "execution_count": 4,
   "id": "1f292e7a",
   "metadata": {},
   "outputs": [],
   "source": [
    "# !pip install transformers"
   ]
  },
  {
   "cell_type": "code",
   "execution_count": 5,
   "id": "ac652266",
   "metadata": {},
   "outputs": [],
   "source": [
    "from accelerate import Accelerator\n",
    "import re"
   ]
  },
  {
   "cell_type": "code",
   "execution_count": 6,
   "id": "d41f1f81",
   "metadata": {},
   "outputs": [],
   "source": [
    "# !pip install transformers accelerate\n",
    "\n",
    "from transformers import AutoTokenizer\n",
    "import transformers\n",
    "import torch"
   ]
  },
  {
   "cell_type": "code",
   "execution_count": 7,
   "id": "e46c4a69",
   "metadata": {},
   "outputs": [],
   "source": [
    "import torch"
   ]
  },
  {
   "cell_type": "code",
   "execution_count": 8,
   "id": "e0b6acb5",
   "metadata": {},
   "outputs": [],
   "source": [
    "import os\n",
    "os.environ['CURL_CA_BUNDLE'] = \"\""
   ]
  },
  {
   "cell_type": "code",
   "execution_count": 9,
   "id": "70e8e930",
   "metadata": {},
   "outputs": [],
   "source": [
    "from langchain.document_loaders import WebBaseLoader\n",
    "from langchain.document_loaders import TextLoader\n",
    "from langchain.text_splitter import RecursiveCharacterTextSplitter\n",
    "from langchain.vectorstores import Chroma\n",
    "from langchain.embeddings import GPT4AllEmbeddings\n",
    "from langchain.prompts import PromptTemplate\n",
    "from langchain.chains import LLMChain\n",
    "\n",
    "from langchain.agents import initialize_agent\n",
    "from langchain.agents import Tool\n",
    "\n",
    "from langchain.llms import LlamaCpp\n",
    "from langchain.callbacks.manager import CallbackManager\n",
    "from langchain.callbacks.streaming_stdout import StreamingStdOutCallbackHandler\n",
    "from langchain.document_loaders import PyPDFDirectoryLoader\n",
    "from langchain.document_loaders import PyPDFLoader\n",
    "from langchain.text_splitter import CharacterTextSplitter"
   ]
  },
  {
   "cell_type": "code",
   "execution_count": 10,
   "id": "93f1906e",
   "metadata": {},
   "outputs": [],
   "source": [
    "from langchain.chains.openai_functions import convert_to_openai_function\n",
    "from langchain.utils.openai_functions import convert_pydantic_to_openai_function\n",
    "from langchain.pydantic_v1 import BaseModel, Field, validator"
   ]
  },
  {
   "cell_type": "code",
   "execution_count": 11,
   "id": "c3778b67",
   "metadata": {},
   "outputs": [],
   "source": [
    "from selenium import webdriver\n",
    "from selenium.webdriver.common.keys import Keys\n",
    "import time\n",
    "from selenium.webdriver.common.by import By"
   ]
  },
  {
   "cell_type": "code",
   "execution_count": 12,
   "id": "cf075137",
   "metadata": {},
   "outputs": [
    {
     "data": {
      "text/plain": [
       "'0.0.330'"
      ]
     },
     "execution_count": 12,
     "metadata": {},
     "output_type": "execute_result"
    }
   ],
   "source": [
    "import langchain\n",
    "langchain.__version__"
   ]
  },
  {
   "cell_type": "code",
   "execution_count": 13,
   "id": "923187fc",
   "metadata": {},
   "outputs": [
    {
     "data": {
      "text/plain": [
       "'0.4.15'"
      ]
     },
     "execution_count": 13,
     "metadata": {},
     "output_type": "execute_result"
    }
   ],
   "source": [
    "import chromadb\n",
    "chromadb.__version__"
   ]
  },
  {
   "cell_type": "code",
   "execution_count": null,
   "id": "8a14634c",
   "metadata": {
    "scrolled": false
   },
   "outputs": [],
   "source": [
    "n_gpu_layers = 1   # Metal set to 1 is enough.\n",
    "n_batch = 512  # Should be between 1 and n_ctx, consider the amount of RAM of your Apple Silicon Chip.\n",
    "callback_manager = CallbackManager([StreamingStdOutCallbackHandler()])\n",
    "\n",
    "# Make sure the model path is correct for your system!\n",
    "llm = LlamaCpp(\n",
    "    model_path=r\"llama-2-7b-chat.Q8_0.gguf\",\n",
    "    n_gpu_layers=n_gpu_layers,\n",
    "    n_batch=n_batch,\n",
    "    n_ctx=4000,\n",
    "    f16_kv=True,  # MUST set to True, otherwise you will run into problem after a couple of calls\n",
    "    callback_manager=callback_manager,\n",
    "#     verbose=False,\n",
    "    temperature=0.1,\n",
    "    device=0,\n",
    "    streaming=False\n",
    ")"
   ]
  },
  {
   "cell_type": "code",
   "execution_count": 15,
   "id": "d7793438",
   "metadata": {},
   "outputs": [],
   "source": [
    "accelerator = Accelerator()\n",
    "llm = accelerator.prepare(llm)"
   ]
  },
  {
   "cell_type": "code",
   "execution_count": 16,
   "id": "9553d451",
   "metadata": {},
   "outputs": [],
   "source": [
    "# llm(\"Simulate a rap battle between Stephen Colbert and John Oliver\")"
   ]
  },
  {
   "cell_type": "code",
   "execution_count": 17,
   "id": "c094b97f",
   "metadata": {},
   "outputs": [],
   "source": [
    "class BlogPosts(BaseModel):\n",
    "    \"\"\"Provides list of all the relevant blog posts and links based on the user query input.\"\"\"\n",
    "    query: str = Field(description=\"list of key words to search the blogpost for.\")\n",
    "\n",
    "def get_post_names(query):\n",
    "    \"\"\"Provides list of all the relevant blog posts and links based on the user query input.\n",
    "    Output can have more than one post titles.\"\"\"\n",
    "\n",
    "    # striping off unwanted text if any\n",
    "    query = query.replace('search terms', '')\n",
    "    query = query.replace('keywords', '')\n",
    "    query = query.replace(':', '')\n",
    "    query = query.replace(\"'\", '')\n",
    "\n",
    "    posts=[]\n",
    "    driver = webdriver.Chrome() # Update this with your chromedriver path\n",
    "    blog_url = \"https://sandeeprshah.blogspot.com/\"\n",
    "    blog_url = blog_url+\"search?q=\"+query\n",
    "    # Open the blog website in the browser\n",
    "    driver.get(blog_url)\n",
    "\n",
    "    time.sleep(5)  # Wait for 5 seconds to let the page load\n",
    "\n",
    "    # Find all the search results (assuming search results are represented as links)\n",
    "    search_results = driver.find_elements(By.CSS_SELECTOR, 'h3')\n",
    "\n",
    "    # Extract and print the titles of the search results\n",
    "    print(\"Titles and links of blog posts:\")\n",
    "    for result in search_results:\n",
    "        post_title = result.text\n",
    "        post_link = result.find_element(By.CSS_SELECTOR, 'a').get_attribute('href')\n",
    "#         print(f\"Title: {post_title}\")\n",
    "#         print(f\"Link: {post_link}\")\n",
    "#         print()\n",
    "        post_title_link = post_title+\":\"+post_link\n",
    "        posts.append(post_title)\n",
    "\n",
    "    # Close the browser\n",
    "    driver.quit()\n",
    "\n",
    "    return {\"response\": posts}"
   ]
  },
  {
   "cell_type": "code",
   "execution_count": 18,
   "id": "b5a4c56a",
   "metadata": {},
   "outputs": [],
   "source": [
    "get_post_names_tool = Tool(\n",
    "    name=\"get_posts\",\n",
    "    func=get_post_names,\n",
    "    description=\"Provides list of all the relevant blog posts and the links based on the user query input.\",\n",
    "    args_schema = BlogPosts\n",
    ")"
   ]
  },
  {
   "cell_type": "code",
   "execution_count": 19,
   "id": "17b7a563",
   "metadata": {},
   "outputs": [],
   "source": [
    "class SinglePost(BaseModel):\n",
    "    \"\"\"Given a blog title - find and open the blog in new browser window.\"\"\"\n",
    "    link: str = Field(description=\"link of the blogpost to open in new window\")\n",
    "\n",
    "def open_blog_post_new_window(link):\n",
    "    \"\"\"given link for a blog article - open it in new window\"\"\"\n",
    "\n",
    "    # striping off unwanted text if any\n",
    "    link = link.replace('search terms', '')\n",
    "    link = link.replace(\"'\", '')\n",
    "\n",
    "    posts=[]\n",
    "    driver = webdriver.Chrome() # Update this with your chromedriver path\n",
    "\n",
    "    driver.get(link)\n",
    "\n",
    "    time.sleep(5)  # Wait for 5 seconds to let the page load\n",
    "\n",
    "\n",
    "    return {\"response\": \"Post opened\"}"
   ]
  },
  {
   "cell_type": "code",
   "execution_count": 20,
   "id": "e6153fd8",
   "metadata": {},
   "outputs": [],
   "source": [
    "open_blog_post_tool = Tool(\n",
    "    name=\"open_blog_post_new_window\",\n",
    "    func=open_blog_post_new_window,\n",
    "    description=\"given link for a blog article - open it in new window\",\n",
    "    args_schema = SinglePost\n",
    ")"
   ]
  },
  {
   "cell_type": "code",
   "execution_count": 21,
   "id": "c91084da",
   "metadata": {},
   "outputs": [],
   "source": [
    "tools = [\n",
    "    get_post_names_tool,\n",
    "    open_blog_post_tool\n",
    "]"
   ]
  },
  {
   "cell_type": "code",
   "execution_count": 22,
   "id": "040473ad",
   "metadata": {},
   "outputs": [],
   "source": [
    "PREFIX = \"<<SYS>> You are smart that selects a function from list of functions based on user queries.\\\n",
    "Run only one function tool at a time or in one query.<</SYS>>\\n\""
   ]
  },
  {
   "cell_type": "code",
   "execution_count": 23,
   "id": "a1268a1c",
   "metadata": {},
   "outputs": [],
   "source": [
    "agent = initialize_agent(\n",
    "    tools,\n",
    "    llm,\n",
    "    agent=\"zero-shot-react-description\",\n",
    "    verbose=True,\n",
    "    max_iterations = 4,\n",
    "    agent_kwargs={\n",
    "        'prefix': PREFIX, \n",
    "#         'format_instructions': FORMAT_INSTRUCTIONS,\n",
    "#         'suffix': SUFFIX\n",
    "    }\n",
    ")"
   ]
  },
  {
   "cell_type": "code",
   "execution_count": 24,
   "id": "5a775657",
   "metadata": {},
   "outputs": [
    {
     "name": "stdout",
     "output_type": "stream",
     "text": [
      "<<SYS>> You are smart that selects a function from list of functions based on user queries.Run only one function tool at a time or in one query.<</SYS>>\n",
      "\n",
      "\n",
      "get_posts: Provides list of all the relevant blog posts and the links based on the user query input.\n",
      "open_blog_post_new_window: given link for a blog article - open it in new window\n",
      "\n",
      "Use the following format:\n",
      "\n",
      "Question: the input question you must answer\n",
      "Thought: you should always think about what to do\n",
      "Action: the action to take, should be one of [get_posts, open_blog_post_new_window]\n",
      "Action Input: the input to the action\n",
      "Observation: the result of the action\n",
      "... (this Thought/Action/Action Input/Observation can repeat N times)\n",
      "Thought: I now know the final answer\n",
      "Final Answer: the final answer to the original input question\n",
      "\n",
      "Begin!\n",
      "\n",
      "Question: {input}\n",
      "Thought:{agent_scratchpad}\n"
     ]
    }
   ],
   "source": [
    "print(agent.agent.llm_chain.prompt.template)"
   ]
  },
  {
   "cell_type": "code",
   "execution_count": 25,
   "id": "26c32184",
   "metadata": {},
   "outputs": [
    {
     "name": "stdout",
     "output_type": "stream",
     "text": [
      "\n",
      "\n",
      "\u001b[1m> Entering new AgentExecutor chain...\u001b[0m\n"
     ]
    },
    {
     "name": "stderr",
     "output_type": "stream",
     "text": [
      "\n",
      "llama_print_timings:        load time =    7212.18 ms\n",
      "llama_print_timings:      sample time =       4.32 ms /    36 runs   (    0.12 ms per token,  8341.06 tokens per second)\n",
      "llama_print_timings: prompt eval time =    7212.02 ms /   249 tokens (   28.96 ms per token,    34.53 tokens per second)\n",
      "llama_print_timings:        eval time =    5378.44 ms /    35 runs   (  153.67 ms per token,     6.51 tokens per second)\n",
      "llama_print_timings:       total time =   12657.54 ms /   284 tokens\n"
     ]
    },
    {
     "name": "stdout",
     "output_type": "stream",
     "text": [
      "\u001b[32;1m\u001b[1;3m Hmm, interesting! Let me check what I can find for you.\n",
      "Action: get_posts\n",
      "Action Input: keywords: 'marathon training'\u001b[0mTitles and links of blog posts:\n",
      "\n",
      "Observation: \u001b[36;1m\u001b[1;3m{'response': ['Reflecting on my marathon journey', 'Ticket to Standard Charted Mumbai Marathon (SCMM)', 'First Half Marathon + 2015 Resolutions', 'Critical Last Month', 'B2B - Back to Basics', 'My Cookie Jar', 'A decade of transition', 'New 30-day challenge', 'Day 6 - 30 Day Miracle Morning Challenge', 'When you get more than you asked for - 2023 !!', 'Reflecting on First Half of 2015', 'MoM - Man on Mission', 'The First Juggling Performance of My LIFE', 'Breaking Barriers !!!', 'Moving out of Comfort Zone', 'Day 10 - 30 Day Miracle Morning Challenge', 'Day 11 - 30 Day Miracle Morning Challenge', \"Sandy's top 10 movie picks\"]}\u001b[0m\n",
      "Thought:"
     ]
    },
    {
     "name": "stderr",
     "output_type": "stream",
     "text": [
      "Llama.generate: prefix-match hit\n",
      "\n",
      "llama_print_timings:        load time =    7212.18 ms\n",
      "llama_print_timings:      sample time =       5.68 ms /    50 runs   (    0.11 ms per token,  8799.72 tokens per second)\n",
      "llama_print_timings: prompt eval time =    2077.82 ms /   218 tokens (    9.53 ms per token,   104.92 tokens per second)\n",
      "llama_print_timings:        eval time =    7520.65 ms /    49 runs   (  153.48 ms per token,     6.52 tokens per second)\n",
      "llama_print_timings:       total time =    9685.65 ms /   267 tokens\n"
     ]
    },
    {
     "name": "stdout",
     "output_type": "stream",
     "text": [
      "\u001b[32;1m\u001b[1;3m Hmm, interesting! Let me check what I can find for you.\n",
      "Final Answer: {'response': ['Reflecting on my marathon journey', 'Ticket to Standard Charted Mumbai Marathon (SCMM)']}\u001b[0m\n",
      "\n",
      "\u001b[1m> Finished chain.\u001b[0m\n"
     ]
    }
   ],
   "source": [
    "A = agent.run(\"Fetch me titles of blog posts relevant to keywords: 'marathon training'. \\\n",
    "I just want the list of titles.\\\n",
    "DO NOT OPEN ANY LINKS.\")"
   ]
  },
  {
   "cell_type": "code",
   "execution_count": 26,
   "id": "a7f60c8e",
   "metadata": {},
   "outputs": [
    {
     "data": {
      "text/plain": [
       "\"{'response': ['Reflecting on my marathon journey', 'Ticket to Standard Charted Mumbai Marathon (SCMM)']}\""
      ]
     },
     "execution_count": 26,
     "metadata": {},
     "output_type": "execute_result"
    }
   ],
   "source": [
    "A"
   ]
  },
  {
   "cell_type": "code",
   "execution_count": 27,
   "id": "010f710e",
   "metadata": {},
   "outputs": [],
   "source": [
    "link_test = \"https://sandeeprshah.blogspot.com/2023/01/reflecting-on-my-marathon-journey.html\""
   ]
  },
  {
   "cell_type": "code",
   "execution_count": 28,
   "id": "76b2ea53",
   "metadata": {},
   "outputs": [
    {
     "name": "stderr",
     "output_type": "stream",
     "text": [
      "Llama.generate: prefix-match hit\n"
     ]
    },
    {
     "name": "stdout",
     "output_type": "stream",
     "text": [
      "\n",
      "\n",
      "\u001b[1m> Entering new AgentExecutor chain...\u001b[0m\n"
     ]
    },
    {
     "name": "stderr",
     "output_type": "stream",
     "text": [
      "\n",
      "llama_print_timings:        load time =    7212.18 ms\n",
      "llama_print_timings:      sample time =       8.18 ms /    72 runs   (    0.11 ms per token,  8801.96 tokens per second)\n",
      "llama_print_timings: prompt eval time =    1350.46 ms /    51 tokens (   26.48 ms per token,    37.77 tokens per second)\n",
      "llama_print_timings:        eval time =   11029.84 ms /    71 runs   (  155.35 ms per token,     6.44 tokens per second)\n",
      "llama_print_timings:       total time =   12507.64 ms /   122 tokens\n"
     ]
    },
    {
     "name": "stdout",
     "output_type": "stream",
     "text": [
      "\u001b[32;1m\u001b[1;3m Given the link, I should open it in new window.\n",
      "Action: open_blog_post_new_window\n",
      "Action Input: 'https://sandeeprshah.blogspot.com/2023/01/reflecting-on-my-marathon-journey.html'\u001b[0m\n",
      "Observation: \u001b[33;1m\u001b[1;3m{'response': 'Post opened'}\u001b[0m\n",
      "Thought:"
     ]
    },
    {
     "name": "stderr",
     "output_type": "stream",
     "text": [
      "Llama.generate: prefix-match hit\n",
      "\n",
      "llama_print_timings:        load time =    7212.18 ms\n",
      "llama_print_timings:      sample time =       2.61 ms /    23 runs   (    0.11 ms per token,  8798.78 tokens per second)\n",
      "llama_print_timings: prompt eval time =     708.15 ms /    12 tokens (   59.01 ms per token,    16.95 tokens per second)\n",
      "llama_print_timings:        eval time =    3532.20 ms /    22 runs   (  160.55 ms per token,     6.23 tokens per second)\n",
      "llama_print_timings:       total time =    4282.23 ms /    34 tokens\n"
     ]
    },
    {
     "name": "stdout",
     "output_type": "stream",
     "text": [
      "\u001b[32;1m\u001b[1;3m I now know the final answer to the original question.\n",
      "Final Answer: {'response': 'Post opened'}\u001b[0m\n",
      "\n",
      "\u001b[1m> Finished chain.\u001b[0m\n"
     ]
    }
   ],
   "source": [
    "A = agent.run(\"Open blog post article with following link - '\"+link_test+\"'\")"
   ]
  },
  {
   "cell_type": "code",
   "execution_count": 29,
   "id": "7dca74fd",
   "metadata": {},
   "outputs": [
    {
     "name": "stdout",
     "output_type": "stream",
     "text": [
      "{'response': 'Post opened'}\n"
     ]
    }
   ],
   "source": [
    "print(A)"
   ]
  },
  {
   "cell_type": "code",
   "execution_count": null,
   "id": "642a1e85",
   "metadata": {},
   "outputs": [],
   "source": []
  },
  {
   "cell_type": "code",
   "execution_count": null,
   "id": "cb07ca44",
   "metadata": {},
   "outputs": [],
   "source": []
  },
  {
   "cell_type": "code",
   "execution_count": null,
   "id": "3423e88d",
   "metadata": {},
   "outputs": [],
   "source": []
  }
 ],
 "metadata": {
  "kernelspec": {
   "display_name": "Python 3 (ipykernel)",
   "language": "python",
   "name": "python3"
  },
  "language_info": {
   "codemirror_mode": {
    "name": "ipython",
    "version": 3
   },
   "file_extension": ".py",
   "mimetype": "text/x-python",
   "name": "python",
   "nbconvert_exporter": "python",
   "pygments_lexer": "ipython3",
   "version": "3.10.9"
  }
 },
 "nbformat": 4,
 "nbformat_minor": 5
}
